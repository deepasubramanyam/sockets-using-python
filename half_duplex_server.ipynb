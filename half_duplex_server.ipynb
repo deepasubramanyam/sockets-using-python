{
 "cells": [
  {
   "cell_type": "code",
   "execution_count": 7,
   "metadata": {},
   "outputs": [
    {
     "name": "stdout",
     "output_type": "stream",
     "text": [
      "b'hi'\n"
     ]
    },
    {
     "name": "stdin",
     "output_type": "stream",
     "text": [
      "Enter the message hello\n"
     ]
    },
    {
     "name": "stdout",
     "output_type": "stream",
     "text": [
      "b'bye'\n"
     ]
    },
    {
     "name": "stdin",
     "output_type": "stream",
     "text": [
      "Enter the message bye\n"
     ]
    }
   ],
   "source": [
    "#server side\n",
    "import socket\n",
    "try:\n",
    "    s = socket.socket(socket.AF_INET, socket.SOCK_STREAM)#create socket\n",
    "except socket.error:      #error in creating socket\n",
    "    print(\"Error creating socket\")#display error\n",
    "s.bind(('192.168.0.102',6011))#bind the client ip address and port number\n",
    "s.listen(1)#listen to the message from the client\n",
    "client,addr=s.accept()\n",
    "while True:\n",
    "    data=client.recv(1024)#receive message from the client\n",
    "    print(data)#print the received message\n",
    "    sentence=input(\"Enter the message\")#get message from client\n",
    "    client.send(str.encode(sentence))# encode received message\n",
    "    if \"bye\" in str(sentence):# if received message contains bye then break out from loop\n",
    "        break\n",
    "client.close()"
   ]
  },
  {
   "cell_type": "code",
   "execution_count": null,
   "metadata": {},
   "outputs": [],
   "source": []
  },
  {
   "cell_type": "code",
   "execution_count": null,
   "metadata": {},
   "outputs": [],
   "source": []
  }
 ],
 "metadata": {
  "kernelspec": {
   "display_name": "Python 3",
   "language": "python",
   "name": "python3"
  },
  "language_info": {
   "codemirror_mode": {
    "name": "ipython",
    "version": 3
   },
   "file_extension": ".py",
   "mimetype": "text/x-python",
   "name": "python",
   "nbconvert_exporter": "python",
   "pygments_lexer": "ipython3",
   "version": "3.8.3"
  }
 },
 "nbformat": 4,
 "nbformat_minor": 4
}
