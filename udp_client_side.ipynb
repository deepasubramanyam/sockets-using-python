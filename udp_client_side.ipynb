{
 "cells": [
  {
   "cell_type": "code",
   "execution_count": null,
   "metadata": {},
   "outputs": [],
   "source": [
    "#client side\n",
    "import socket\n",
    "msgFromClient= \"Hello Server\"\n",
    "bytesToSend = str.encode(msgFromClient)\n",
    "serverAddressPort = (\"192.168.43.2\", 6002)\n",
    "bufferSize = 1024\n",
    "# Create a UDP socket at client side\n",
    "UDPClientSocket = socket.socket(socket.AF_INET, type=socket.SOCK_DGRAM)\n",
    "# Send to server using created UDP socket\n",
    "UDPClientSocket.sendto(bytesToSend, serverAddressPort)\n",
    "msgFromServer = UDPClientSocket.recvfrom(1024)\n",
    "msg = \"Message from Server {}\".format(msgFromServer[0])\n",
    "print(msg)"
   ]
  },
  {
   "cell_type": "code",
   "execution_count": null,
   "metadata": {},
   "outputs": [],
   "source": []
  },
  {
   "cell_type": "code",
   "execution_count": null,
   "metadata": {},
   "outputs": [],
   "source": []
  },
  {
   "cell_type": "code",
   "execution_count": null,
   "metadata": {},
   "outputs": [],
   "source": []
  }
 ],
 "metadata": {
  "kernelspec": {
   "display_name": "Python 3",
   "language": "python",
   "name": "python3"
  },
  "language_info": {
   "codemirror_mode": {
    "name": "ipython",
    "version": 3
   },
   "file_extension": ".py",
   "mimetype": "text/x-python",
   "name": "python",
   "nbconvert_exporter": "python",
   "pygments_lexer": "ipython3",
   "version": "3.8.3"
  }
 },
 "nbformat": 4,
 "nbformat_minor": 4
}
